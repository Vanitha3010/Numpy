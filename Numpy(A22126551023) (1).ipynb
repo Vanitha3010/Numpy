{
  "nbformat": 4,
  "nbformat_minor": 0,
  "metadata": {
    "colab": {
      "provenance": []
    },
    "kernelspec": {
      "name": "python3",
      "display_name": "Python 3"
    },
    "language_info": {
      "name": "python"
    }
  },
  "cells": [
    {
      "cell_type": "markdown",
      "source": [
        "1. Getting familiar with numpy."
      ],
      "metadata": {
        "id": "Vr5mcYuHCt9x"
      }
    },
    {
      "cell_type": "markdown",
      "source": [
        "NumPy is a Python library used for working with arrays.\n",
        "It also has functions for working in domain of linear algebra, fourier transform, and matrices."
      ],
      "metadata": {
        "id": "zm8MtVi8-oJJ"
      }
    },
    {
      "cell_type": "markdown",
      "source": [
        "Installing numpy:\n",
        "Run the following command"
      ],
      "metadata": {
        "id": "GWBIVsvk-24P"
      }
    },
    {
      "cell_type": "code",
      "source": [
        "import numpy as np"
      ],
      "metadata": {
        "id": "LZMc0b1i-8bR"
      },
      "execution_count": 1,
      "outputs": []
    },
    {
      "cell_type": "markdown",
      "source": [
        "Numpy arrays:\n",
        "A numpy array is a grid of values, all of the same type, and is indexed by a tuple of nonnegative integers."
      ],
      "metadata": {
        "id": "WsXMoKc9-_m0"
      }
    },
    {
      "cell_type": "markdown",
      "source": [
        "Creating 1D arrays:\n",
        "Run the following command."
      ],
      "metadata": {
        "id": "yg-rm3vh_SMp"
      }
    },
    {
      "cell_type": "code",
      "source": [
        "data= np.array([21,12],dtype='int64')\n",
        "data"
      ],
      "metadata": {
        "colab": {
          "base_uri": "https://localhost:8080/"
        },
        "id": "pcXChOxX_gdW",
        "outputId": "afb2510a-9e28-4c10-fed3-f320bed3d486"
      },
      "execution_count": 2,
      "outputs": [
        {
          "output_type": "execute_result",
          "data": {
            "text/plain": [
              "array([21, 12])"
            ]
          },
          "metadata": {},
          "execution_count": 2
        }
      ]
    },
    {
      "cell_type": "markdown",
      "source": [
        "Creating multidimensional arrays:\n",
        "Run the following command."
      ],
      "metadata": {
        "id": "8KQ6A_V-_y8o"
      }
    },
    {
      "cell_type": "markdown",
      "source": [
        "Method 1: List"
      ],
      "metadata": {
        "id": "LyfoufgB_9sq"
      }
    },
    {
      "cell_type": "code",
      "source": [
        "data=np.array([[1,2,3],[4,5,6],[7,8,9]])\n",
        "data"
      ],
      "metadata": {
        "colab": {
          "base_uri": "https://localhost:8080/"
        },
        "id": "M2if1lal_4Aw",
        "outputId": "44c6b532-3efc-4eff-943b-51c77bd8a546"
      },
      "execution_count": 3,
      "outputs": [
        {
          "output_type": "execute_result",
          "data": {
            "text/plain": [
              "array([[1, 2, 3],\n",
              "       [4, 5, 6],\n",
              "       [7, 8, 9]])"
            ]
          },
          "metadata": {},
          "execution_count": 3
        }
      ]
    },
    {
      "cell_type": "markdown",
      "source": [
        "Method 2: rashape"
      ],
      "metadata": {
        "id": "U-U8iebjADfd"
      }
    },
    {
      "cell_type": "code",
      "source": [
        "data2=np.arange(1,11).reshape((2,5))\n",
        "data2"
      ],
      "metadata": {
        "colab": {
          "base_uri": "https://localhost:8080/"
        },
        "id": "GIw-h56zAOX4",
        "outputId": "b881b8c7-0113-4429-d913-c123f3ac2f0f"
      },
      "execution_count": 4,
      "outputs": [
        {
          "output_type": "execute_result",
          "data": {
            "text/plain": [
              "array([[ 1,  2,  3,  4,  5],\n",
              "       [ 6,  7,  8,  9, 10]])"
            ]
          },
          "metadata": {},
          "execution_count": 4
        }
      ]
    },
    {
      "cell_type": "markdown",
      "source": [
        "Properties of array:\n",
        "1. Type\n",
        "2. Shape\n",
        "3. Dimensions\n",
        "4. Size"
      ],
      "metadata": {
        "id": "aSKZwoO5BmC4"
      }
    },
    {
      "cell_type": "code",
      "source": [
        "\n",
        "#1\n",
        "print(data.dtype)\n",
        "\n",
        "#2\n",
        "print(data.shape)\n",
        "\n",
        "#3\n",
        "print(data.ndim)\n",
        "\n",
        "#4\n",
        "print(data.size)"
      ],
      "metadata": {
        "colab": {
          "base_uri": "https://localhost:8080/"
        },
        "id": "Gq6oMpHyByXP",
        "outputId": "d7bba624-f9a3-4497-e6ee-da6f899e40be"
      },
      "execution_count": 5,
      "outputs": [
        {
          "output_type": "stream",
          "name": "stdout",
          "text": [
            "int64\n",
            "(3, 3)\n",
            "2\n",
            "9\n"
          ]
        }
      ]
    },
    {
      "cell_type": "markdown",
      "source": [
        "2. Data manipulation."
      ],
      "metadata": {
        "id": "f5CvJgAxC-Nh"
      }
    },
    {
      "cell_type": "markdown",
      "source": [
        "Arithmetic operations on different arrays:"
      ],
      "metadata": {
        "id": "Uccw5ytmDAgn"
      }
    },
    {
      "cell_type": "code",
      "source": [
        "#1D arrays\n",
        "arr1=np.array([2,4,6,8])\n",
        "arr2=np.array([1,3,5,7])\n",
        "print(arr1+arr2)"
      ],
      "metadata": {
        "colab": {
          "base_uri": "https://localhost:8080/"
        },
        "id": "P2dwuWpDDSNO",
        "outputId": "fa8cbbe5-1d57-4f63-a3dd-d4949730058a"
      },
      "execution_count": null,
      "outputs": [
        {
          "output_type": "stream",
          "name": "stdout",
          "text": [
            "[ 3  7 11 15]\n"
          ]
        }
      ]
    },
    {
      "cell_type": "code",
      "source": [
        "#multidimensional\n",
        "arr1=np.array([[21,7,18,4],[98,6,67,8]])\n",
        "arr2=np.array([[10,11,12,13],[14,15,16,17]])\n",
        "print(arr1+arr2)"
      ],
      "metadata": {
        "colab": {
          "base_uri": "https://localhost:8080/"
        },
        "id": "b5cjeqBUDdiK",
        "outputId": "5f882b86-e217-42b3-ea97-60e8129a1af5"
      },
      "execution_count": null,
      "outputs": [
        {
          "output_type": "stream",
          "name": "stdout",
          "text": [
            "[[ 31  18  30  17]\n",
            " [112  21  83  25]]\n"
          ]
        }
      ]
    },
    {
      "cell_type": "markdown",
      "source": [
        "Array indexing and slicing."
      ],
      "metadata": {
        "id": "bfXuaQQaDo0T"
      }
    },
    {
      "cell_type": "code",
      "source": [
        "#Indexing\n",
        "\n",
        "print(arr1[0])\n",
        "\n",
        "# negative indexing\n",
        "print(arr2[-1])"
      ],
      "metadata": {
        "colab": {
          "base_uri": "https://localhost:8080/"
        },
        "id": "IsKiMcKgDt_P",
        "outputId": "ea84716f-3abf-4665-f2a2-c860a4df661e"
      },
      "execution_count": null,
      "outputs": [
        {
          "output_type": "stream",
          "name": "stdout",
          "text": [
            "[21  7 18  4]\n",
            "[14 15 16 17]\n"
          ]
        }
      ]
    },
    {
      "cell_type": "code",
      "source": [
        "#slicing\n",
        "print(arr1[0:])\n",
        "print(arr1[-1:0])"
      ],
      "metadata": {
        "colab": {
          "base_uri": "https://localhost:8080/"
        },
        "id": "F-sGmLQaEHHb",
        "outputId": "18c131dc-754f-4032-9e7a-b83c5e44b979"
      },
      "execution_count": null,
      "outputs": [
        {
          "output_type": "stream",
          "name": "stdout",
          "text": [
            "[[21  7 18  4]\n",
            " [98  6 67  8]]\n",
            "[]\n"
          ]
        }
      ]
    },
    {
      "cell_type": "markdown",
      "source": [
        "3. Data aggregation techniques are:\n",
        "\n",
        "Np.min\n",
        "\n",
        "Np.max\n",
        "\n",
        "Np.sum\n",
        "\n",
        "Np.mean\n",
        "\n",
        "Np.median"
      ],
      "metadata": {
        "id": "EzNUh6nSEgoJ"
      }
    },
    {
      "cell_type": "code",
      "source": [
        "print(np.min(arr1))\n",
        "\n",
        "print(np.max(arr2))\n",
        "\n",
        "print(np.sum(arr2))\n",
        "\n",
        "print(np.mean(arr1))\n",
        "\n",
        "print(np.median(arr1))"
      ],
      "metadata": {
        "colab": {
          "base_uri": "https://localhost:8080/"
        },
        "id": "S1cl8qQ0FB9p",
        "outputId": "8b93095a-0920-4701-ce9f-c6d915d16398"
      },
      "execution_count": null,
      "outputs": [
        {
          "output_type": "stream",
          "name": "stdout",
          "text": [
            "4\n",
            "17\n",
            "108\n",
            "28.625\n",
            "13.0\n"
          ]
        }
      ]
    },
    {
      "cell_type": "markdown",
      "source": [
        "Applications of Numpy in Data Science:"
      ],
      "metadata": {
        "id": "sg7-PYeHF0F0"
      }
    },
    {
      "cell_type": "markdown",
      "source": [
        "NumPy is commonly used within data science in order to work through numerical analyses and functions, such as creating and working with arrays, returning descriptive statistics, and a variety of machine learning models and mathematical formulas. You can also access the NumPy library through the GitHub platform."
      ],
      "metadata": {
        "id": "BWmHzd2CF02a"
      }
    },
    {
      "cell_type": "markdown",
      "source": [
        "Applications in Real World:"
      ],
      "metadata": {
        "id": "cCvj1MpGGXZ1"
      }
    },
    {
      "cell_type": "markdown",
      "source": [
        "NumPy is used for numerical computing in Python. It provides support for multi-dimensional arrays, along with a vast collection of mathematical functions for array manipulation and computation."
      ],
      "metadata": {
        "id": "HQHdLon-Gl5P"
      }
    }
  ]
}